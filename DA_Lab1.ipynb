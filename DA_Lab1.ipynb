{
  "nbformat": 4,
  "nbformat_minor": 0,
  "metadata": {
    "colab": {
      "provenance": []
    },
    "kernelspec": {
      "name": "python3",
      "display_name": "Python 3"
    },
    "language_info": {
      "name": "python"
    }
  },
  "cells": [
    {
      "cell_type": "code",
      "execution_count": null,
      "metadata": {
        "colab": {
          "base_uri": "https://localhost:8080/",
          "height": 543
        },
        "id": "2UjgeXnqghwV",
        "outputId": "07bda664-33f2-4a34-893a-2ba70aec7eec"
      },
      "outputs": [
        {
          "output_type": "execute_result",
          "data": {
            "text/plain": [
              "   source_name                                        source_link  event_id  \\\n",
              "0          AGU  https://blogs.agu.org/landslideblog/2008/10/14...       684   \n",
              "1    Oregonian  http://www.oregonlive.com/news/index.ssf/2009/...       956   \n",
              "2     CBS News  https://www.cbsnews.com/news/dozens-missing-af...       973   \n",
              "3      Reuters  https://in.reuters.com/article/idINIndia-41450...      1067   \n",
              "4  The Freeman  http://www.philstar.com/cebu-news/621414/lands...      2603   \n",
              "\n",
              "               event_date  event_time  \\\n",
              "0  08/01/2008 12:00:00 AM         NaN   \n",
              "1  01/02/2009 02:00:00 AM         NaN   \n",
              "2  01/19/2007 12:00:00 AM         NaN   \n",
              "3  07/31/2009 12:00:00 AM         NaN   \n",
              "4  10/16/2010 12:00:00 PM         NaN   \n",
              "\n",
              "                                         event_title  \\\n",
              "0      Sigou Village, Loufan County, Shanxi Province   \n",
              "1                                Lake Oswego, Oregon   \n",
              "2  San Ramon district, 195 miles northeast of the...   \n",
              "3                                   Dailekh district   \n",
              "4                    sitio Bakilid in barangay Lahug   \n",
              "\n",
              "                                   event_description  \\\n",
              "0  occurred early in morning, 11 villagers buried...   \n",
              "1  Hours of heavy rain are to blame for an overni...   \n",
              "2  (CBS/AP) At least 10 people died and as many a...   \n",
              "3  One person was killed in Dailekh district, pol...   \n",
              "4  Another landslide in sitio Bakilid in barangay...   \n",
              "\n",
              "                                location_description location_accuracy  \\\n",
              "0      Sigou Village, Loufan County, Shanxi Province           unknown   \n",
              "1                                Lake Oswego, Oregon               5km   \n",
              "2  San Ramon district, 195 miles northeast of the...              10km   \n",
              "3                                   Dailekh district           unknown   \n",
              "4                    sitio Bakilid in barangay Lahug               5km   \n",
              "\n",
              "  landslide_category  ... country_code admin_division_name  \\\n",
              "0          landslide  ...           CN             Shaanxi   \n",
              "1           mudslide  ...           US              Oregon   \n",
              "2          landslide  ...           PE               Junín   \n",
              "3          landslide  ...           NP         Mid Western   \n",
              "4          landslide  ...           PH     Central Visayas   \n",
              "\n",
              "  admin_division_population  gazeteer_closest_point  gazeteer_distance  \\\n",
              "0                       0.0                Jingyang           41.02145   \n",
              "1                   36619.0             Lake Oswego            0.60342   \n",
              "2                   14708.0               San Ramón            0.85548   \n",
              "3                   20908.0                 Dailekh            0.75395   \n",
              "4                  798634.0               Cebu City            2.02204   \n",
              "\n",
              "           submitted_date            created_date        last_edited_date  \\\n",
              "0  04/01/2014 12:00:00 AM  11/20/2017 03:17:00 PM  02/15/2018 03:51:00 PM   \n",
              "1  04/01/2014 12:00:00 AM  11/20/2017 03:17:00 PM  02/15/2018 03:51:00 PM   \n",
              "2  04/01/2014 12:00:00 AM  11/20/2017 03:17:00 PM  02/15/2018 03:51:00 PM   \n",
              "3  04/01/2014 12:00:00 AM  11/20/2017 03:17:00 PM  02/15/2018 03:51:00 PM   \n",
              "4  04/01/2014 12:00:00 AM  11/20/2017 03:17:00 PM  02/15/2018 03:51:00 PM   \n",
              "\n",
              "  longitude  latitude  \n",
              "0  107.4500   32.5625  \n",
              "1 -122.6630   45.4200  \n",
              "2  -75.3587  -11.1295  \n",
              "3   81.7080   28.8378  \n",
              "4  123.8978   10.3336  \n",
              "\n",
              "[5 rows x 31 columns]"
            ],
            "text/html": [
              "\n",
              "  <div id=\"df-11563004-525b-4f52-b357-89654a5d8345\">\n",
              "    <div class=\"colab-df-container\">\n",
              "      <div>\n",
              "<style scoped>\n",
              "    .dataframe tbody tr th:only-of-type {\n",
              "        vertical-align: middle;\n",
              "    }\n",
              "\n",
              "    .dataframe tbody tr th {\n",
              "        vertical-align: top;\n",
              "    }\n",
              "\n",
              "    .dataframe thead th {\n",
              "        text-align: right;\n",
              "    }\n",
              "</style>\n",
              "<table border=\"1\" class=\"dataframe\">\n",
              "  <thead>\n",
              "    <tr style=\"text-align: right;\">\n",
              "      <th></th>\n",
              "      <th>source_name</th>\n",
              "      <th>source_link</th>\n",
              "      <th>event_id</th>\n",
              "      <th>event_date</th>\n",
              "      <th>event_time</th>\n",
              "      <th>event_title</th>\n",
              "      <th>event_description</th>\n",
              "      <th>location_description</th>\n",
              "      <th>location_accuracy</th>\n",
              "      <th>landslide_category</th>\n",
              "      <th>...</th>\n",
              "      <th>country_code</th>\n",
              "      <th>admin_division_name</th>\n",
              "      <th>admin_division_population</th>\n",
              "      <th>gazeteer_closest_point</th>\n",
              "      <th>gazeteer_distance</th>\n",
              "      <th>submitted_date</th>\n",
              "      <th>created_date</th>\n",
              "      <th>last_edited_date</th>\n",
              "      <th>longitude</th>\n",
              "      <th>latitude</th>\n",
              "    </tr>\n",
              "  </thead>\n",
              "  <tbody>\n",
              "    <tr>\n",
              "      <th>0</th>\n",
              "      <td>AGU</td>\n",
              "      <td>https://blogs.agu.org/landslideblog/2008/10/14...</td>\n",
              "      <td>684</td>\n",
              "      <td>08/01/2008 12:00:00 AM</td>\n",
              "      <td>NaN</td>\n",
              "      <td>Sigou Village, Loufan County, Shanxi Province</td>\n",
              "      <td>occurred early in morning, 11 villagers buried...</td>\n",
              "      <td>Sigou Village, Loufan County, Shanxi Province</td>\n",
              "      <td>unknown</td>\n",
              "      <td>landslide</td>\n",
              "      <td>...</td>\n",
              "      <td>CN</td>\n",
              "      <td>Shaanxi</td>\n",
              "      <td>0.0</td>\n",
              "      <td>Jingyang</td>\n",
              "      <td>41.02145</td>\n",
              "      <td>04/01/2014 12:00:00 AM</td>\n",
              "      <td>11/20/2017 03:17:00 PM</td>\n",
              "      <td>02/15/2018 03:51:00 PM</td>\n",
              "      <td>107.4500</td>\n",
              "      <td>32.5625</td>\n",
              "    </tr>\n",
              "    <tr>\n",
              "      <th>1</th>\n",
              "      <td>Oregonian</td>\n",
              "      <td>http://www.oregonlive.com/news/index.ssf/2009/...</td>\n",
              "      <td>956</td>\n",
              "      <td>01/02/2009 02:00:00 AM</td>\n",
              "      <td>NaN</td>\n",
              "      <td>Lake Oswego, Oregon</td>\n",
              "      <td>Hours of heavy rain are to blame for an overni...</td>\n",
              "      <td>Lake Oswego, Oregon</td>\n",
              "      <td>5km</td>\n",
              "      <td>mudslide</td>\n",
              "      <td>...</td>\n",
              "      <td>US</td>\n",
              "      <td>Oregon</td>\n",
              "      <td>36619.0</td>\n",
              "      <td>Lake Oswego</td>\n",
              "      <td>0.60342</td>\n",
              "      <td>04/01/2014 12:00:00 AM</td>\n",
              "      <td>11/20/2017 03:17:00 PM</td>\n",
              "      <td>02/15/2018 03:51:00 PM</td>\n",
              "      <td>-122.6630</td>\n",
              "      <td>45.4200</td>\n",
              "    </tr>\n",
              "    <tr>\n",
              "      <th>2</th>\n",
              "      <td>CBS News</td>\n",
              "      <td>https://www.cbsnews.com/news/dozens-missing-af...</td>\n",
              "      <td>973</td>\n",
              "      <td>01/19/2007 12:00:00 AM</td>\n",
              "      <td>NaN</td>\n",
              "      <td>San Ramon district, 195 miles northeast of the...</td>\n",
              "      <td>(CBS/AP) At least 10 people died and as many a...</td>\n",
              "      <td>San Ramon district, 195 miles northeast of the...</td>\n",
              "      <td>10km</td>\n",
              "      <td>landslide</td>\n",
              "      <td>...</td>\n",
              "      <td>PE</td>\n",
              "      <td>Junín</td>\n",
              "      <td>14708.0</td>\n",
              "      <td>San Ramón</td>\n",
              "      <td>0.85548</td>\n",
              "      <td>04/01/2014 12:00:00 AM</td>\n",
              "      <td>11/20/2017 03:17:00 PM</td>\n",
              "      <td>02/15/2018 03:51:00 PM</td>\n",
              "      <td>-75.3587</td>\n",
              "      <td>-11.1295</td>\n",
              "    </tr>\n",
              "    <tr>\n",
              "      <th>3</th>\n",
              "      <td>Reuters</td>\n",
              "      <td>https://in.reuters.com/article/idINIndia-41450...</td>\n",
              "      <td>1067</td>\n",
              "      <td>07/31/2009 12:00:00 AM</td>\n",
              "      <td>NaN</td>\n",
              "      <td>Dailekh district</td>\n",
              "      <td>One person was killed in Dailekh district, pol...</td>\n",
              "      <td>Dailekh district</td>\n",
              "      <td>unknown</td>\n",
              "      <td>landslide</td>\n",
              "      <td>...</td>\n",
              "      <td>NP</td>\n",
              "      <td>Mid Western</td>\n",
              "      <td>20908.0</td>\n",
              "      <td>Dailekh</td>\n",
              "      <td>0.75395</td>\n",
              "      <td>04/01/2014 12:00:00 AM</td>\n",
              "      <td>11/20/2017 03:17:00 PM</td>\n",
              "      <td>02/15/2018 03:51:00 PM</td>\n",
              "      <td>81.7080</td>\n",
              "      <td>28.8378</td>\n",
              "    </tr>\n",
              "    <tr>\n",
              "      <th>4</th>\n",
              "      <td>The Freeman</td>\n",
              "      <td>http://www.philstar.com/cebu-news/621414/lands...</td>\n",
              "      <td>2603</td>\n",
              "      <td>10/16/2010 12:00:00 PM</td>\n",
              "      <td>NaN</td>\n",
              "      <td>sitio Bakilid in barangay Lahug</td>\n",
              "      <td>Another landslide in sitio Bakilid in barangay...</td>\n",
              "      <td>sitio Bakilid in barangay Lahug</td>\n",
              "      <td>5km</td>\n",
              "      <td>landslide</td>\n",
              "      <td>...</td>\n",
              "      <td>PH</td>\n",
              "      <td>Central Visayas</td>\n",
              "      <td>798634.0</td>\n",
              "      <td>Cebu City</td>\n",
              "      <td>2.02204</td>\n",
              "      <td>04/01/2014 12:00:00 AM</td>\n",
              "      <td>11/20/2017 03:17:00 PM</td>\n",
              "      <td>02/15/2018 03:51:00 PM</td>\n",
              "      <td>123.8978</td>\n",
              "      <td>10.3336</td>\n",
              "    </tr>\n",
              "  </tbody>\n",
              "</table>\n",
              "<p>5 rows × 31 columns</p>\n",
              "</div>\n",
              "      <button class=\"colab-df-convert\" onclick=\"convertToInteractive('df-11563004-525b-4f52-b357-89654a5d8345')\"\n",
              "              title=\"Convert this dataframe to an interactive table.\"\n",
              "              style=\"display:none;\">\n",
              "        \n",
              "  <svg xmlns=\"http://www.w3.org/2000/svg\" height=\"24px\"viewBox=\"0 0 24 24\"\n",
              "       width=\"24px\">\n",
              "    <path d=\"M0 0h24v24H0V0z\" fill=\"none\"/>\n",
              "    <path d=\"M18.56 5.44l.94 2.06.94-2.06 2.06-.94-2.06-.94-.94-2.06-.94 2.06-2.06.94zm-11 1L8.5 8.5l.94-2.06 2.06-.94-2.06-.94L8.5 2.5l-.94 2.06-2.06.94zm10 10l.94 2.06.94-2.06 2.06-.94-2.06-.94-.94-2.06-.94 2.06-2.06.94z\"/><path d=\"M17.41 7.96l-1.37-1.37c-.4-.4-.92-.59-1.43-.59-.52 0-1.04.2-1.43.59L10.3 9.45l-7.72 7.72c-.78.78-.78 2.05 0 2.83L4 21.41c.39.39.9.59 1.41.59.51 0 1.02-.2 1.41-.59l7.78-7.78 2.81-2.81c.8-.78.8-2.07 0-2.86zM5.41 20L4 18.59l7.72-7.72 1.47 1.35L5.41 20z\"/>\n",
              "  </svg>\n",
              "      </button>\n",
              "      \n",
              "  <style>\n",
              "    .colab-df-container {\n",
              "      display:flex;\n",
              "      flex-wrap:wrap;\n",
              "      gap: 12px;\n",
              "    }\n",
              "\n",
              "    .colab-df-convert {\n",
              "      background-color: #E8F0FE;\n",
              "      border: none;\n",
              "      border-radius: 50%;\n",
              "      cursor: pointer;\n",
              "      display: none;\n",
              "      fill: #1967D2;\n",
              "      height: 32px;\n",
              "      padding: 0 0 0 0;\n",
              "      width: 32px;\n",
              "    }\n",
              "\n",
              "    .colab-df-convert:hover {\n",
              "      background-color: #E2EBFA;\n",
              "      box-shadow: 0px 1px 2px rgba(60, 64, 67, 0.3), 0px 1px 3px 1px rgba(60, 64, 67, 0.15);\n",
              "      fill: #174EA6;\n",
              "    }\n",
              "\n",
              "    [theme=dark] .colab-df-convert {\n",
              "      background-color: #3B4455;\n",
              "      fill: #D2E3FC;\n",
              "    }\n",
              "\n",
              "    [theme=dark] .colab-df-convert:hover {\n",
              "      background-color: #434B5C;\n",
              "      box-shadow: 0px 1px 3px 1px rgba(0, 0, 0, 0.15);\n",
              "      filter: drop-shadow(0px 1px 2px rgba(0, 0, 0, 0.3));\n",
              "      fill: #FFFFFF;\n",
              "    }\n",
              "  </style>\n",
              "\n",
              "      <script>\n",
              "        const buttonEl =\n",
              "          document.querySelector('#df-11563004-525b-4f52-b357-89654a5d8345 button.colab-df-convert');\n",
              "        buttonEl.style.display =\n",
              "          google.colab.kernel.accessAllowed ? 'block' : 'none';\n",
              "\n",
              "        async function convertToInteractive(key) {\n",
              "          const element = document.querySelector('#df-11563004-525b-4f52-b357-89654a5d8345');\n",
              "          const dataTable =\n",
              "            await google.colab.kernel.invokeFunction('convertToInteractive',\n",
              "                                                     [key], {});\n",
              "          if (!dataTable) return;\n",
              "\n",
              "          const docLinkHtml = 'Like what you see? Visit the ' +\n",
              "            '<a target=\"_blank\" href=https://colab.research.google.com/notebooks/data_table.ipynb>data table notebook</a>'\n",
              "            + ' to learn more about interactive tables.';\n",
              "          element.innerHTML = '';\n",
              "          dataTable['output_type'] = 'display_data';\n",
              "          await google.colab.output.renderOutput(dataTable, element);\n",
              "          const docLink = document.createElement('div');\n",
              "          docLink.innerHTML = docLinkHtml;\n",
              "          element.appendChild(docLink);\n",
              "        }\n",
              "      </script>\n",
              "    </div>\n",
              "  </div>\n",
              "  "
            ]
          },
          "metadata": {},
          "execution_count": 2
        }
      ],
      "source": [
        "import pandas as pd\n",
        "df = pd.read_csv('/content/Global_Landslide_Catalog_Export.csv')\n",
        "\n",
        "df.head()"
      ]
    },
    {
      "cell_type": "code",
      "source": [
        "total = df.isnull().sum().sort_values(ascending=False)\n",
        "total"
      ],
      "metadata": {
        "colab": {
          "base_uri": "https://localhost:8080/"
        },
        "id": "D1zSlelKhhZB",
        "outputId": "69b493e5-9f3a-4207-ab38-d3d2a26bd058"
      },
      "execution_count": null,
      "outputs": [
        {
          "output_type": "execute_result",
          "data": {
            "text/plain": [
              "event_time                   11033\n",
              "notes                        10716\n",
              "storm_name                   10456\n",
              "photo_link                    9537\n",
              "injury_count                  5674\n",
              "admin_division_name           1637\n",
              "country_code                  1564\n",
              "gazeteer_closest_point        1563\n",
              "event_import_source           1563\n",
              "admin_division_population     1562\n",
              "country_name                  1562\n",
              "event_import_id               1562\n",
              "gazeteer_distance             1562\n",
              "fatality_count                1385\n",
              "event_description              862\n",
              "source_link                    846\n",
              "location_description           102\n",
              "landslide_setting               69\n",
              "landslide_trigger               23\n",
              "submitted_date                  10\n",
              "landslide_size                   9\n",
              "location_accuracy                2\n",
              "landslide_category               1\n",
              "created_date                     1\n",
              "last_edited_date                 0\n",
              "longitude                        0\n",
              "source_name                      0\n",
              "event_title                      0\n",
              "event_date                       0\n",
              "event_id                         0\n",
              "latitude                         0\n",
              "dtype: int64"
            ]
          },
          "metadata": {},
          "execution_count": 6
        }
      ]
    },
    {
      "cell_type": "code",
      "source": [
        "import seaborn as sns\n",
        "sns.distplot(df['gazeteer_distance'])"
      ],
      "metadata": {
        "colab": {
          "base_uri": "https://localhost:8080/",
          "height": 352
        },
        "id": "8i93YOsgiL76",
        "outputId": "de09f059-32f5-4101-aafc-8ea714ada229"
      },
      "execution_count": null,
      "outputs": [
        {
          "output_type": "stream",
          "name": "stderr",
          "text": [
            "/usr/local/lib/python3.7/dist-packages/seaborn/distributions.py:2619: FutureWarning: `distplot` is a deprecated function and will be removed in a future version. Please adapt your code to use either `displot` (a figure-level function with similar flexibility) or `histplot` (an axes-level function for histograms).\n",
            "  warnings.warn(msg, FutureWarning)\n"
          ]
        },
        {
          "output_type": "execute_result",
          "data": {
            "text/plain": [
              "<matplotlib.axes._subplots.AxesSubplot at 0x7ff65cbf3e90>"
            ]
          },
          "metadata": {},
          "execution_count": 7
        },
        {
          "output_type": "display_data",
          "data": {
            "text/plain": [
              "<Figure size 432x288 with 1 Axes>"
            ],
            "image/png": "[encoded data removed]"
          },
          "metadata": {
            "needs_background": "light"
          }
        }
      ]
    },
    {
      "cell_type": "code",
      "source": [
        "corr_matrix=df.corr()\n",
        "sns.heatmap(corr_matrix)"
      ],
      "metadata": {
        "colab": {
          "base_uri": "https://localhost:8080/",
          "height": 409
        },
        "id": "LO-_f5T1hoiu",
        "outputId": "00a8fbce-f123-4933-8f42-774caca5247f"
      },
      "execution_count": null,
      "outputs": [
        {
          "output_type": "execute_result",
          "data": {
            "text/plain": [
              "<matplotlib.axes._subplots.AxesSubplot at 0x7ff65caa0050>"
            ]
          },
          "metadata": {},
          "execution_count": 8
        },
        {
          "output_type": "display_data",
          "data": {
            "text/plain": [
              "<Figure size 432x288 with 2 Axes>"
            ],
            "image/png": "[encoded data removed]"
          },
          "metadata": {
            "needs_background": "light"
          }
        }
      ]
    },
    {
      "cell_type": "code",
      "source": [],
      "metadata": {
        "id": "DcVrs1YLjmvU"
      },
      "execution_count": null,
      "outputs": []
    }
  ]
}